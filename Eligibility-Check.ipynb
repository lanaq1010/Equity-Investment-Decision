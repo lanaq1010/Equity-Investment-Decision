{
 "cells": [
  {
   "cell_type": "code",
   "execution_count": null,
   "metadata": {},
   "outputs": [
    {
     "ename": "",
     "evalue": "",
     "output_type": "error",
     "traceback": [
      "\u001b[1;31mThe kernel failed to start as '/Users/lana/Library/Python/3.11/lib/python/site-packages/psutil/_psutil_osx.abi3.so' could not be imported from '/Users/lana/Library/Python/3.11/lib/python/site-packages/psutil/_psutil_osx.abi3.so, 0x0002'.\n",
      "\u001b[1;31mClick <a href='https://aka.ms/kernelFailuresModuleImportErrFromFile'>here</a> for more info."
     ]
    }
   ],
   "source": [
    "def eligibilitycheck(ticker,dfformatted):\n",
    "    \n",
    "    legiblestock = True\n",
    "    reasonlist=[]\n",
    "\n",
    "    # print (dfformatted)\n",
    "    # EPS increases over the year (consistent)\n",
    "    for growth in dfformatted.epsgrowth:\n",
    "        if growth<0:\n",
    "            legiblestock = False\n",
    "            reasonlist.append('there is negative growth '+str(growth))\n",
    "            break\n",
    "    # ROE > 0.15\n",
    "    if dfformatted.roe.mean()<0.13:\n",
    "            legiblestock = False\n",
    "            reasonlist.append('roe mean is less than 0.13 '+ str(dfformatted.roe.mean()))\n",
    "    # ROA > 0.07 (also consider debt to equity cause Assets = liabilities + equity)\n",
    "    if dfformatted.roa.mean()<0.07:\n",
    "            legiblestock = False\n",
    "            reasonlist.append('roa mean is less than 0.07 ' + str(dfformatted.roa.mean()))\n",
    "    # Long term debt < 5 * income\n",
    "    if dfformatted.longtermdebt.tail(1).values[0]>5*dfformatted.netincome.tail(1).values[0]:\n",
    "            legiblestock = False\n",
    "            reasonlist.append('longtermdebt is 5 times the netincome ')\n",
    "    # Interest Coverage Ratio > 3\n",
    "    if dfformatted.interestcoverageratio.tail(1).values[0]<3:\n",
    "            legiblestock = False\n",
    "            reasonlist.append('Interestcoverageratio is less than 3 ')\n",
    "#     print ticker,legiblestock,reasonlist\n",
    "    return reasonlist"
   ]
  },
  {
   "cell_type": "code",
   "execution_count": null,
   "metadata": {},
   "outputs": [],
   "source": []
  }
 ],
 "metadata": {
  "kernelspec": {
   "display_name": "base",
   "language": "python",
   "name": "python3"
  },
  "language_info": {
   "name": "python",
   "version": "3.9.13 (main, Aug 25 2022, 18:29:29) \n[Clang 12.0.0 ]"
  },
  "orig_nbformat": 4,
  "vscode": {
   "interpreter": {
    "hash": "22068e0d0c728bd108b9ece58fa79153c9ffe04355f2429898ae8d4230a4c387"
   }
  }
 },
 "nbformat": 4,
 "nbformat_minor": 2
}
